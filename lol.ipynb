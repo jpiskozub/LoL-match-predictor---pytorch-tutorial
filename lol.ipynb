{
 "cells": [
  {
   "cell_type": "code",
   "execution_count": 31,
   "metadata": {},
   "outputs": [
    {
     "name": "stdout",
     "output_type": "stream",
     "text": [
      "Requirement already satisfied: pandas in /home/kuba/anaconda3/envs/rag/lib/python3.10/site-packages (2.1.4)\n",
      "Requirement already satisfied: numpy<2,>=1.22.4 in /home/kuba/anaconda3/envs/rag/lib/python3.10/site-packages (from pandas) (1.26.4)\n",
      "Requirement already satisfied: python-dateutil>=2.8.2 in /home/kuba/anaconda3/envs/rag/lib/python3.10/site-packages (from pandas) (2.9.0.post0)\n",
      "Requirement already satisfied: pytz>=2020.1 in /home/kuba/anaconda3/envs/rag/lib/python3.10/site-packages (from pandas) (2024.1)\n",
      "Requirement already satisfied: tzdata>=2022.1 in /home/kuba/anaconda3/envs/rag/lib/python3.10/site-packages (from pandas) (2025.1)\n",
      "Requirement already satisfied: six>=1.5 in /home/kuba/anaconda3/envs/rag/lib/python3.10/site-packages (from python-dateutil>=2.8.2->pandas) (1.16.0)\n",
      "Requirement already satisfied: scikit-learn in /home/kuba/anaconda3/envs/rag/lib/python3.10/site-packages (1.6.1)\n",
      "Requirement already satisfied: numpy>=1.19.5 in /home/kuba/anaconda3/envs/rag/lib/python3.10/site-packages (from scikit-learn) (1.26.4)\n",
      "Requirement already satisfied: scipy>=1.6.0 in /home/kuba/anaconda3/envs/rag/lib/python3.10/site-packages (from scikit-learn) (1.15.2)\n",
      "Requirement already satisfied: joblib>=1.2.0 in /home/kuba/anaconda3/envs/rag/lib/python3.10/site-packages (from scikit-learn) (1.4.2)\n",
      "Requirement already satisfied: threadpoolctl>=3.1.0 in /home/kuba/anaconda3/envs/rag/lib/python3.10/site-packages (from scikit-learn) (3.5.0)\n",
      "Requirement already satisfied: torch in /home/kuba/anaconda3/envs/rag/lib/python3.10/site-packages (2.6.0)\n",
      "Requirement already satisfied: filelock in /home/kuba/anaconda3/envs/rag/lib/python3.10/site-packages (from torch) (3.17.0)\n",
      "Requirement already satisfied: typing-extensions>=4.10.0 in /home/kuba/anaconda3/envs/rag/lib/python3.10/site-packages (from torch) (4.12.2)\n",
      "Requirement already satisfied: networkx in /home/kuba/anaconda3/envs/rag/lib/python3.10/site-packages (from torch) (3.4.2)\n",
      "Requirement already satisfied: jinja2 in /home/kuba/anaconda3/envs/rag/lib/python3.10/site-packages (from torch) (3.1.5)\n",
      "Requirement already satisfied: fsspec in /home/kuba/anaconda3/envs/rag/lib/python3.10/site-packages (from torch) (2025.2.0)\n",
      "Requirement already satisfied: nvidia-cuda-nvrtc-cu12==12.4.127 in /home/kuba/anaconda3/envs/rag/lib/python3.10/site-packages (from torch) (12.4.127)\n",
      "Requirement already satisfied: nvidia-cuda-runtime-cu12==12.4.127 in /home/kuba/anaconda3/envs/rag/lib/python3.10/site-packages (from torch) (12.4.127)\n",
      "Requirement already satisfied: nvidia-cuda-cupti-cu12==12.4.127 in /home/kuba/anaconda3/envs/rag/lib/python3.10/site-packages (from torch) (12.4.127)\n",
      "Requirement already satisfied: nvidia-cudnn-cu12==9.1.0.70 in /home/kuba/anaconda3/envs/rag/lib/python3.10/site-packages (from torch) (9.1.0.70)\n",
      "Requirement already satisfied: nvidia-cublas-cu12==12.4.5.8 in /home/kuba/anaconda3/envs/rag/lib/python3.10/site-packages (from torch) (12.4.5.8)\n",
      "Requirement already satisfied: nvidia-cufft-cu12==11.2.1.3 in /home/kuba/anaconda3/envs/rag/lib/python3.10/site-packages (from torch) (11.2.1.3)\n",
      "Requirement already satisfied: nvidia-curand-cu12==10.3.5.147 in /home/kuba/anaconda3/envs/rag/lib/python3.10/site-packages (from torch) (10.3.5.147)\n",
      "Requirement already satisfied: nvidia-cusolver-cu12==11.6.1.9 in /home/kuba/anaconda3/envs/rag/lib/python3.10/site-packages (from torch) (11.6.1.9)\n",
      "Requirement already satisfied: nvidia-cusparse-cu12==12.3.1.170 in /home/kuba/anaconda3/envs/rag/lib/python3.10/site-packages (from torch) (12.3.1.170)\n",
      "Requirement already satisfied: nvidia-cusparselt-cu12==0.6.2 in /home/kuba/anaconda3/envs/rag/lib/python3.10/site-packages (from torch) (0.6.2)\n",
      "Requirement already satisfied: nvidia-nccl-cu12==2.21.5 in /home/kuba/anaconda3/envs/rag/lib/python3.10/site-packages (from torch) (2.21.5)\n",
      "Requirement already satisfied: nvidia-nvtx-cu12==12.4.127 in /home/kuba/anaconda3/envs/rag/lib/python3.10/site-packages (from torch) (12.4.127)\n",
      "Requirement already satisfied: nvidia-nvjitlink-cu12==12.4.127 in /home/kuba/anaconda3/envs/rag/lib/python3.10/site-packages (from torch) (12.4.127)\n",
      "Requirement already satisfied: triton==3.2.0 in /home/kuba/anaconda3/envs/rag/lib/python3.10/site-packages (from torch) (3.2.0)\n",
      "Requirement already satisfied: sympy==1.13.1 in /home/kuba/anaconda3/envs/rag/lib/python3.10/site-packages (from torch) (1.13.1)\n",
      "Requirement already satisfied: mpmath<1.4,>=1.1.0 in /home/kuba/anaconda3/envs/rag/lib/python3.10/site-packages (from sympy==1.13.1->torch) (1.3.0)\n",
      "Requirement already satisfied: MarkupSafe>=2.0 in /home/kuba/anaconda3/envs/rag/lib/python3.10/site-packages (from jinja2->torch) (2.1.5)\n",
      "Requirement already satisfied: matplotlib in /home/kuba/anaconda3/envs/rag/lib/python3.10/site-packages (3.10.1)\n",
      "Requirement already satisfied: contourpy>=1.0.1 in /home/kuba/anaconda3/envs/rag/lib/python3.10/site-packages (from matplotlib) (1.3.1)\n",
      "Requirement already satisfied: cycler>=0.10 in /home/kuba/anaconda3/envs/rag/lib/python3.10/site-packages (from matplotlib) (0.12.1)\n",
      "Requirement already satisfied: fonttools>=4.22.0 in /home/kuba/anaconda3/envs/rag/lib/python3.10/site-packages (from matplotlib) (4.56.0)\n",
      "Requirement already satisfied: kiwisolver>=1.3.1 in /home/kuba/anaconda3/envs/rag/lib/python3.10/site-packages (from matplotlib) (1.4.8)\n",
      "Requirement already satisfied: numpy>=1.23 in /home/kuba/anaconda3/envs/rag/lib/python3.10/site-packages (from matplotlib) (1.26.4)\n",
      "Requirement already satisfied: packaging>=20.0 in /home/kuba/anaconda3/envs/rag/lib/python3.10/site-packages (from matplotlib) (24.2)\n",
      "Requirement already satisfied: pillow>=8 in /home/kuba/anaconda3/envs/rag/lib/python3.10/site-packages (from matplotlib) (11.1.0)\n",
      "Requirement already satisfied: pyparsing>=2.3.1 in /home/kuba/anaconda3/envs/rag/lib/python3.10/site-packages (from matplotlib) (3.2.1)\n",
      "Requirement already satisfied: python-dateutil>=2.7 in /home/kuba/anaconda3/envs/rag/lib/python3.10/site-packages (from matplotlib) (2.9.0.post0)\n",
      "Requirement already satisfied: six>=1.5 in /home/kuba/anaconda3/envs/rag/lib/python3.10/site-packages (from python-dateutil>=2.7->matplotlib) (1.16.0)\n"
     ]
    }
   ],
   "source": [
    "!pip install pandas\n",
    "!pip install scikit-learn\n",
    "!pip install torch\n",
    "!pip install matplotlib"
   ]
  },
  {
   "cell_type": "code",
   "execution_count": 32,
   "metadata": {},
   "outputs": [
    {
     "name": "stdout",
     "output_type": "stream",
     "text": [
      "X_train_tensor shape: torch.Size([800, 8])\n",
      "X_test_tensor shape: torch.Size([200, 8])\n",
      "y_train_tensor shape: torch.Size([800])\n",
      "y_test_tensor shape: torch.Size([200])\n"
     ]
    }
   ],
   "source": [
    "import pandas as pd\n",
    "from sklearn.model_selection import train_test_split\n",
    "from sklearn.preprocessing import StandardScaler\n",
    "import torch\n",
    "\n",
    "from torch.utils.data import DataLoader, TensorDataset\n",
    "\n",
    "\n",
    "# 1. Load the dataset\n",
    "data = pd.read_csv('league_of_legends_data_large.csv')\n",
    "\n",
    "# 2. Split data into features and target\n",
    "X = data.drop('win', axis=1)\n",
    "y = data['win']\n",
    "\n",
    "# 3. Split the data into training and testing sets\n",
    "X_train, X_test, y_train, y_test = train_test_split(X, y, test_size=0.2, random_state=42)\n",
    "\n",
    "# 4. Standardize the features\n",
    "scaler = StandardScaler()\n",
    "X_train = scaler.fit_transform(X_train)\n",
    "X_test = scaler.transform(X_test)\n",
    "\n",
    "# 5. Convert the data to PyTorch tensors\n",
    "X_train_tensor = torch.tensor(X_train, dtype=torch.float32)\n",
    "X_test_tensor = torch.tensor(X_test, dtype=torch.float32)\n",
    "y_train_tensor = torch.tensor(y_train.values, dtype=torch.long)\n",
    "y_test_tensor = torch.tensor(y_test.values, dtype=torch.long)\n",
    "\n",
    "# Print tensor shapes\n",
    "print(f'X_train_tensor shape: {X_train_tensor.shape}')\n",
    "print(f'X_test_tensor shape: {X_test_tensor.shape}')\n",
    "print(f'y_train_tensor shape: {y_train_tensor.shape}')\n",
    "print(f'y_test_tensor shape: {y_test_tensor.shape}')\n",
    "\n",
    "# Create DataLoader for training and test sets\n",
    "train_dataset = TensorDataset(X_train_tensor, y_train_tensor)\n",
    "test_dataset = TensorDataset(X_test_tensor, y_test_tensor)\n",
    "\n",
    "train_loader = DataLoader(train_dataset, batch_size=2, shuffle=True)\n",
    "test_loader = DataLoader(test_dataset, batch_size=2, shuffle=False)"
   ]
  },
  {
   "cell_type": "code",
   "execution_count": 33,
   "metadata": {},
   "outputs": [
    {
     "name": "stdout",
     "output_type": "stream",
     "text": [
      "LogisticRegressionModel(\n",
      "  (linear): Linear(in_features=8, out_features=1, bias=True)\n",
      ")\n",
      "BCELoss()\n",
      "SGD (\n",
      "Parameter Group 0\n",
      "    dampening: 0\n",
      "    differentiable: False\n",
      "    foreach: None\n",
      "    fused: None\n",
      "    lr: 0.01\n",
      "    maximize: False\n",
      "    momentum: 0\n",
      "    nesterov: False\n",
      "    weight_decay: 0\n",
      ")\n"
     ]
    }
   ],
   "source": [
    "import torch\n",
    "import torch.nn as nn\n",
    "import torch.optim as optim\n",
    "\n",
    "# 1. Define the Logistic Regression Model\n",
    "class LogisticRegressionModel(nn.Module):\n",
    "    def __init__(self, input_dim):\n",
    "        super(LogisticRegressionModel, self).__init__()\n",
    "        self.linear = nn.Linear(input_dim, 1)\n",
    "    \n",
    "    def forward(self, x):\n",
    "        return torch.sigmoid(self.linear(x))\n",
    "\n",
    "# Set input_dim: Use X_train.shape[1] to get the number of features from the training data (X_train)\n",
    "input_dim = X_train.shape[1]\n",
    "\n",
    "# Initialize the model: Create an instance of the LogisticRegressionModel class\n",
    "model = LogisticRegressionModel(input_dim)\n",
    "\n",
    "# Loss Function: Use BCELoss() from torch.nn (Binary Cross-Entropy Loss)\n",
    "criterion = nn.BCELoss()\n",
    "\n",
    "# Optimizer: Initialize the optimizer using optim.SGD() with a learning rate of 0.01\n",
    "optimizer = optim.SGD(model.parameters(), lr=0.01)\n",
    "\n",
    "# Print model, criterion, and optimizer to verify\n",
    "print(model)\n",
    "print(criterion)\n",
    "print(optimizer)"
   ]
  },
  {
   "cell_type": "code",
   "execution_count": 34,
   "metadata": {},
   "outputs": [
    {
     "name": "stdout",
     "output_type": "stream",
     "text": [
      "Epoch [1/1000], Train Loss: 0.7047, Test Loss: 0.7054\n",
      "Epoch [101/1000], Train Loss: 0.6895, Test Loss: 0.7010\n",
      "Epoch [201/1000], Train Loss: 0.6900, Test Loss: 0.7005\n",
      "Epoch [301/1000], Train Loss: 0.6900, Test Loss: 0.6992\n",
      "Epoch [401/1000], Train Loss: 0.6904, Test Loss: 0.7006\n",
      "Epoch [501/1000], Train Loss: 0.6901, Test Loss: 0.6998\n",
      "Epoch [601/1000], Train Loss: 0.6902, Test Loss: 0.6986\n",
      "Epoch [701/1000], Train Loss: 0.6903, Test Loss: 0.7004\n",
      "Epoch [801/1000], Train Loss: 0.6901, Test Loss: 0.7016\n",
      "Epoch [901/1000], Train Loss: 0.6902, Test Loss: 0.6991\n"
     ]
    }
   ],
   "source": [
    "epochs = 1000\n",
    "train_losses = []\n",
    "test_losses = []\n",
    "\n",
    "for epoch in range(epochs):\n",
    "    # Training phase\n",
    "    model.train()\n",
    "    running_loss = 0.0\n",
    "    for X_batch, y_batch in train_loader:\n",
    "        optimizer.zero_grad()\n",
    "        outputs = model(X_batch)\n",
    "        loss = criterion(outputs, y_batch.unsqueeze(1).float())\n",
    "        loss.backward()\n",
    "        optimizer.step()\n",
    "        running_loss += loss.item()\n",
    "\n",
    "    train_loss = running_loss / len(train_loader)\n",
    "    train_losses.append(train_loss)\n",
    "    \n",
    "    # Evaluation phase on test set\n",
    "    model.eval()\n",
    "    test_loss = 0.0\n",
    "    with torch.no_grad():\n",
    "        for X_batch, y_batch in test_loader:\n",
    "            test_outputs = model(X_batch)\n",
    "            loss = criterion(test_outputs, y_batch.unsqueeze(1).float())\n",
    "            test_loss += loss.item()\n",
    "\n",
    "    test_loss /= len(test_loader)\n",
    "    test_losses.append(test_loss)\n",
    "    \n",
    "    if epoch%100 == 0:\n",
    "        print(f'Epoch [{epoch + 1}/{epochs}], Train Loss: {train_loss:.4f}, Test Loss: {test_loss:.4f}')"
   ]
  },
  {
   "cell_type": "code",
   "execution_count": 40,
   "metadata": {},
   "outputs": [
    {
     "name": "stdout",
     "output_type": "stream",
     "text": [
      "Train Accuracy: 54.87%\n",
      "Test Accuracy: 49.50%\n"
     ]
    }
   ],
   "source": [
    "from sklearn.metrics import accuracy_score\n",
    "\n",
    "train_outputs = model(X_train_tensor)\n",
    "train_predicted = (train_outputs >= 0.5).float()\n",
    "\n",
    "test_outputs = model(X_test_tensor)\n",
    "test_predicted = (test_outputs >= 0.5).float()\n",
    "\n",
    "train_accuracy = accuracy_score(y_train_tensor, train_predicted)\n",
    "test_accuracy = accuracy_score(y_test_tensor, test_predicted)\n",
    "\n",
    "# Print training and test accuracies\n",
    "print(f'Train Accuracy: {train_accuracy * 100:.2f}%')\n",
    "print(f'Test Accuracy: {test_accuracy * 100:.2f}%')"
   ]
  },
  {
   "cell_type": "code",
   "execution_count": 36,
   "metadata": {},
   "outputs": [
    {
     "name": "stdout",
     "output_type": "stream",
     "text": [
      "SGD (\n",
      "Parameter Group 0\n",
      "    dampening: 0\n",
      "    differentiable: False\n",
      "    foreach: None\n",
      "    fused: None\n",
      "    lr: 0.01\n",
      "    maximize: False\n",
      "    momentum: 0\n",
      "    nesterov: False\n",
      "    weight_decay: 0\n",
      ")\n"
     ]
    }
   ],
   "source": [
    "\n",
    "# Optimizer: Initialize the optimizer using optim.SGD() with a learning rate of 0.01\n",
    "optimizer_wd = optim.SGD(model.parameters(), lr=0.01, weight_decay=0.01)\n",
    "print(optimizer)\n"
   ]
  },
  {
   "cell_type": "code",
   "execution_count": 37,
   "metadata": {},
   "outputs": [
    {
     "name": "stdout",
     "output_type": "stream",
     "text": [
      "Epoch [1/1000], Train Loss: 0.6902, Test Loss: 0.7018\n",
      "Epoch [101/1000], Train Loss: 0.6902, Test Loss: 0.7022\n",
      "Epoch [201/1000], Train Loss: 0.6904, Test Loss: 0.6990\n",
      "Epoch [301/1000], Train Loss: 0.6904, Test Loss: 0.6998\n",
      "Epoch [401/1000], Train Loss: 0.6903, Test Loss: 0.7000\n",
      "Epoch [501/1000], Train Loss: 0.6902, Test Loss: 0.6978\n",
      "Epoch [601/1000], Train Loss: 0.6901, Test Loss: 0.6999\n",
      "Epoch [701/1000], Train Loss: 0.6900, Test Loss: 0.7019\n",
      "Epoch [801/1000], Train Loss: 0.6903, Test Loss: 0.6997\n",
      "Epoch [901/1000], Train Loss: 0.6901, Test Loss: 0.7008\n"
     ]
    }
   ],
   "source": [
    "epochs = 1000\n",
    "train_losses = []\n",
    "test_losses = []\n",
    "\n",
    "for epoch in range(epochs):\n",
    "    # Training phase\n",
    "    model.train()\n",
    "    running_loss = 0.0\n",
    "    for X_batch, y_batch in train_loader:\n",
    "        optimizer_wd.zero_grad()\n",
    "        outputs = model(X_batch)\n",
    "        loss = criterion(outputs, y_batch.unsqueeze(1).float())\n",
    "        loss.backward()\n",
    "        optimizer.step()\n",
    "        running_loss += loss.item()\n",
    "\n",
    "    train_loss = running_loss / len(train_loader)\n",
    "    train_losses.append(train_loss)\n",
    "    \n",
    "    # Evaluation phase on test set\n",
    "    model.eval()\n",
    "    test_loss = 0.0\n",
    "    with torch.no_grad():\n",
    "        for X_batch, y_batch in test_loader:\n",
    "            test_outputs = model(X_batch)\n",
    "            loss = criterion(test_outputs, y_batch.unsqueeze(1).float())\n",
    "            test_loss += loss.item()\n",
    "\n",
    "    test_loss /= len(test_loader)\n",
    "    test_losses.append(test_loss)\n",
    "    \n",
    "    if epoch%100 == 0:\n",
    "        print(f'Epoch [{epoch + 1}/{epochs}], Train Loss: {train_loss:.4f}, Test Loss: {test_loss:.4f}')"
   ]
  },
  {
   "cell_type": "code",
   "execution_count": 39,
   "metadata": {},
   "outputs": [
    {
     "name": "stdout",
     "output_type": "stream",
     "text": [
      "Train Accuracy: 54.87%\n",
      "Test Accuracy: 49.50%\n"
     ]
    }
   ],
   "source": [
    "train_outputs = model(X_train_tensor)\n",
    "train_predicted = (train_outputs >= 0.5).float()\n",
    "\n",
    "test_outputs = model(X_test_tensor)\n",
    "test_predicted = (test_outputs >= 0.5).float()\n",
    "\n",
    "train_accuracy = accuracy_score(y_train_tensor, train_predicted)\n",
    "test_accuracy = accuracy_score(y_test_tensor, test_predicted)\n",
    "\n",
    "# Print training and test accuracies\n",
    "print(f'Train Accuracy: {train_accuracy * 100:.2f}%')\n",
    "print(f'Test Accuracy: {test_accuracy * 100:.2f}%')"
   ]
  },
  {
   "cell_type": "code",
   "execution_count": 42,
   "metadata": {},
   "outputs": [
    {
     "name": "stdout",
     "output_type": "stream",
     "text": [
      "Confusion Matrix:\n",
      "[[38 57]\n",
      " [44 61]]\n"
     ]
    },
    {
     "data": {
      "image/png": "[encoded data removed]",
      "text/plain": [
       "<Figure size 640x480 with 1 Axes>"
      ]
     },
     "metadata": {},
     "output_type": "display_data"
    },
    {
     "name": "stdout",
     "output_type": "stream",
     "text": [
      "Classification Report:\n",
      "              precision    recall  f1-score   support\n",
      "\n",
      "     Class 0       0.46      0.40      0.43        95\n",
      "     Class 1       0.52      0.58      0.55       105\n",
      "\n",
      "    accuracy                           0.49       200\n",
      "   macro avg       0.49      0.49      0.49       200\n",
      "weighted avg       0.49      0.49      0.49       200\n",
      "\n"
     ]
    }
   ],
   "source": [
    "import matplotlib.pyplot as plt\n",
    "from sklearn.metrics import confusion_matrix, roc_curve, auc, classification_report\n",
    "\n",
    "\n",
    "cm = confusion_matrix(y_test_tensor, test_predicted)\n",
    "print(\"Confusion Matrix:\")\n",
    "print(cm)\n",
    "\n",
    "# ROC Curve and AUC\n",
    "fpr, tpr, thresholds = roc_curve(y_test_tensor.detach().numpy(), test_outputs.detach().numpy())\n",
    "roc_auc = auc(fpr, tpr)\n",
    "\n",
    "plt.figure()\n",
    "plt.plot(fpr, tpr, color='darkorange', lw=2, label=f'ROC curve (area = {roc_auc:.2f})')\n",
    "plt.plot([0, 1], [0, 1], color='navy', lw=2, linestyle='--')\n",
    "plt.xlim([0.0, 1.0])\n",
    "plt.ylim([0.0, 1.05])\n",
    "plt.xlabel('False Positive Rate')\n",
    "plt.ylabel('True Positive Rate')\n",
    "plt.title('Receiver Operating Characteristic')\n",
    "plt.legend(loc=\"lower right\")\n",
    "plt.show()\n",
    "\n",
    "# Classification Report\n",
    "report = classification_report(y_test_tensor, test_predicted, target_names=['Class 0', 'Class 1'])\n",
    "print(\"Classification Report:\")\n",
    "print(report)"
   ]
  },
  {
   "cell_type": "code",
   "execution_count": 47,
   "metadata": {},
   "outputs": [
    {
     "name": "stdout",
     "output_type": "stream",
     "text": [
      "Test Accuracy of Loaded Model: 49.50%\n"
     ]
    }
   ],
   "source": [
    "\n",
    "from torcheval.metrics import BinaryAccuracy\n",
    "\n",
    "# Save the model's state dictionary\n",
    "torch.save(model.state_dict(), 'logistic_regression_model.pth')\n",
    "\n",
    "# Create a new instance of the model\n",
    "loaded_model = LogisticRegressionModel(input_dim)\n",
    "\n",
    "# Load the saved state dictionary into the new model instance\n",
    "loaded_model.load_state_dict(torch.load('logistic_regression_model.pth'))\n",
    "\n",
    "# Set the model to evaluation mode\n",
    "loaded_model.eval()\n",
    "\n",
    "# Evaluate the loaded model on the test dataset\\\n",
    "\n",
    "test_outputs_loaded = loaded_model(X_test_tensor)\n",
    "test_predicted_loaded = (test_outputs_loaded >= 0.5).float()\n",
    "\n",
    "with torch.no_grad():\n",
    "    metric = BinaryAccuracy()\n",
    "    metric.update(test_predicted_loaded.squeeze(), y_test_tensor)\n",
    "    test_accuracy_loaded = metric.compute()\n",
    "\n",
    "# Print test accuracy of the loaded model\n",
    "print(f'Test Accuracy of Loaded Model: {test_accuracy_loaded * 100:.2f}%')"
   ]
  }
 ],
 "metadata": {
  "kernelspec": {
   "display_name": "rag",
   "language": "python",
   "name": "python3"
  },
  "language_info": {
   "codemirror_mode": {
    "name": "ipython",
    "version": 3
   },
   "file_extension": ".py",
   "mimetype": "text/x-python",
   "name": "python",
   "nbconvert_exporter": "python",
   "pygments_lexer": "ipython3",
   "version": "3.10.16"
  }
 },
 "nbformat": 4,
 "nbformat_minor": 2
}
